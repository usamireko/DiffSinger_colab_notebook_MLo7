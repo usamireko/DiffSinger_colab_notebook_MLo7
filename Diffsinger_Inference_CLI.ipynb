{
  "nbformat": 4,
  "nbformat_minor": 0,
  "metadata": {
    "colab": {
      "provenance": [],
      "gpuType": "T4",
      "authorship_tag": "ABX9TyMCmydUVAdyUrRW9L70tavt",
      "include_colab_link": true
    },
    "kernelspec": {
      "name": "python3",
      "display_name": "Python 3"
    },
    "language_info": {
      "name": "python"
    },
    "accelerator": "GPU"
  },
  "cells": [
    {
      "cell_type": "markdown",
      "metadata": {
        "id": "view-in-github",
        "colab_type": "text"
      },
      "source": [
        "<a href=\"https://colab.research.google.com/github/usamireko/DiffSinger_colab_notebook_MLo7/blob/main/Diffsinger_Inference_CLI.ipynb\" target=\"_parent\"><img src=\"https://colab.research.google.com/assets/colab-badge.svg\" alt=\"Open In Colab\"/></a>"
      ]
    },
    {
      "cell_type": "code",
      "execution_count": null,
      "metadata": {
        "cellView": "form",
        "id": "lM_n5mDsiu_g",
        "collapsed": true
      },
      "outputs": [],
      "source": [
        "#@title # Installation\n",
        "from IPython.display import clear_output, Audio, display, HTML\n",
        "import os\n",
        "branch_select = \"muon_lynxnet2\" # @param [\"main\", \"muon_lynxnet2\"]\n",
        "from google.colab import drive\n",
        "drive.mount('/content/drive')\n",
        "clear_output()\n",
        "!curl -LsSf https://astral.sh/uv/install.sh | sh\n",
        "!git clone https://github.com/openvpi/DiffSinger.git -b {branch_select} /content/DiffSinger\n",
        "print(\"Installing components, please wait uwu\")\n",
        "!uv pip install torch torchvision torchaudio\n",
        "clear_output()\n",
        "!uv pip install -r /content/DiffSinger/requirements.txt --quiet\n",
        "!uv pip install mido einops --quiet\n",
        "print(\"Downloading some needed files, please wait uwu\")\n",
        "clear_output()\n",
        "\n",
        "!wget https://github.com/openvpi/vocoders/releases/download/pc-nsf-hifigan-44.1k-hop512-128bin-2025.02/pc_nsf_hifigan_44.1k_hop512_128bin_2025.02.zip -O /content/pc_nsf_hifigan_44.1k_hop512_128bin_2025.02.zip\n",
        "!wget https://github.com/usamireko/DiffSinger_colab_notebook_MLo7/releases/download/requirements/infer_alt.py -O /content/DiffSinger/scripts/infer_alt.py\n",
        "!unzip -q /content/pc_nsf_hifigan_44.1k_hop512_128bin_2025.02.zip -d /content/DiffSinger/checkpoints/\n",
        "!rm /content/pc_nsf_hifigan_44.1k_hop512_128bin_2025.02.zip\n",
        "clear_output()\n",
        "print(\"Done!\")\n",
        "display(HTML('''\n",
        "<div style=\"text-align:center;\">\n",
        "  <img src=\"https://files.catbox.moe/qcrz23.gif\" alt=\"Snow\" style=\"height:30%;\">\n",
        "</div>\n",
        "'''))"
      ]
    },
    {
      "cell_type": "code",
      "source": [
        "%cd /content/DiffSinger\n",
        "DS_file = \"\" # @param {\"type\":\"string\"}\n",
        "model_folder = \"\" # @param {\"type\":\"string\"}\n",
        "custom_vocoder_path = \"\" # @param {\"type\":\"string\"}\n",
        "custom_vocoder  = False # @param {\"type\":\"boolean\"}\n",
        "vocoder_type = \"NsfHifiGAN\" # @param [\"NsfHifiGAN\",\"DDSP\"]\n",
        "speaker_name = \"\" # @param {\"type\":\"string\"}\n",
        "lang= \"en\" # @param {\"type\":\"string\"}\n",
        "gender = 0 # @param {\"type\":\"slider\",\"min\":-1,\"max\":1,\"step\":0.1}\n",
        "output_path = \"/content\" # @param {\"type\":\"string\"}\n",
        "output_filename = \"-1\" #@param {\"type\":\"string\"}\n",
        "seed = -1 # @param {\"type\":\"integer\"}\n",
        "key = 0 # @param {\"type\":\"integer\"}\n",
        "render_steps = 100 # @param [\"2\",\"5\",\"10\",\"20\",\"50\",\"100\",\"1000\"] {\"type\":\"raw\"}\n",
        "playback = True # @param {\"type\":\"boolean\"}\n",
        "if custom_vocoder:\n",
        "  !python ./scripts/infer_alt.py acoustic {DS_file} --exp {model_folder} --spk {speaker_name} --lang {lang} --out {output_path} --seed {seed} --key {key} --title {output_filename} --steps {render_steps} --gender {gender} --vocoder {custom_vocoder_path} --vocoder-type {vocoder_type}\n",
        "else:\n",
        "  !python ./scripts/infer_alt.py acoustic {DS_file} --exp {model_folder} \\\n",
        "    --spk {speaker_name} \\\n",
        "    --lang {lang} \\\n",
        "    --out {output_path} \\\n",
        "    --seed {seed} \\\n",
        "    --key {key} \\\n",
        "    --title {output_filename} \\\n",
        "    --steps {render_steps} \\\n",
        "    --gender {gender}\n",
        "clear_output()\n",
        "wav_path = os.path.join(output_path, output_filename + \".wav\")\n",
        "print(\"Inference completed! Check the result on \" + wav_path)\n",
        "if playback:\n",
        "  display(Audio(wav_path, autoplay=True))"
      ],
      "metadata": {
        "cellView": "form",
        "id": "eIzvIVIPk2mY"
      },
      "execution_count": null,
      "outputs": []
    }
  ]
}